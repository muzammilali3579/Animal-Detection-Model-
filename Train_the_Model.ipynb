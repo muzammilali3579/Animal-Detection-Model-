{
 "cells": [
  {
   "cell_type": "code",
   "execution_count": 5,
   "id": "b8060e26",
   "metadata": {},
   "outputs": [],
   "source": [
    "import tensorflow as tf\n",
    "from tensorflow.keras.applications import MobileNetV2\n",
    "from tensorflow.keras.layers import Dense, GlobalAveragePooling2D\n",
    "from tensorflow.keras.models import Model\n",
    "from tensorflow.keras.optimizers import Adam\n",
    "from tensorflow.keras.preprocessing.image import ImageDataGenerator"
   ]
  },
  {
   "cell_type": "code",
   "execution_count": 6,
   "id": "3946443a",
   "metadata": {},
   "outputs": [
    {
     "name": "stdout",
     "output_type": "stream",
     "text": [
      "Found 5817 images belonging to 15 classes.\n",
      "Found 1445 images belonging to 15 classes.\n"
     ]
    }
   ],
   "source": [
    "# Set up the data directory\n",
    "data_dir = 'Dataset/train/'\n",
    "\n",
    "# Set up the hyperparameters\n",
    "batch_size = 32\n",
    "image_size = (224, 224)\n",
    "learning_rate = 0.001\n",
    "num_epochs = 10\n",
    "num_classes = 15\n",
    "\n",
    "# Create the data generator\n",
    "data_generator = ImageDataGenerator(\n",
    "    rescale=1./255,\n",
    "    rotation_range=20,\n",
    "    width_shift_range=0.2,\n",
    "    height_shift_range=0.2,\n",
    "    shear_range=0.2,\n",
    "    zoom_range=0.2,\n",
    "    horizontal_flip=True,\n",
    "    validation_split=0.2  # 20% of the data will be used for validation\n",
    ")\n",
    "\n",
    "train_generator = data_generator.flow_from_directory(\n",
    "    data_dir,\n",
    "    target_size=image_size,\n",
    "    batch_size=batch_size,\n",
    "    class_mode='categorical',\n",
    "    subset='training'  # Use the training subset of the data\n",
    ")\n",
    "\n",
    "validation_generator = data_generator.flow_from_directory(\n",
    "    data_dir,\n",
    "    target_size=image_size,\n",
    "    batch_size=batch_size,\n",
    "    class_mode='categorical',\n",
    "    subset='validation'  # Use the validation subset of the data\n",
    ")\n"
   ]
  },
  {
   "cell_type": "code",
   "execution_count": 7,
   "id": "5cfaf6cf",
   "metadata": {},
   "outputs": [],
   "source": [
    "# Create the base model\n",
    "base_model = MobileNetV2(\n",
    "    include_top=False,\n",
    "    input_shape=(image_size[0], image_size[1], 3)\n",
    ")\n",
    "\n",
    "# Add custom classification layers\n",
    "x = base_model.output\n",
    "x = GlobalAveragePooling2D()(x)\n",
    "x = Dense(128, activation='relu')(x)\n",
    "predictions = Dense(num_classes, activation='softmax')(x)\n",
    "\n",
    "# Combine the base model and custom layers\n",
    "model = Model(inputs=base_model.input, outputs=predictions)\n",
    "\n",
    "# Freeze the base model layers\n",
    "for layer in base_model.layers:\n",
    "    layer.trainable = False\n",
    "\n",
    "# Compile the model\n",
    "model.compile(\n",
    "    optimizer=Adam(learning_rate=learning_rate),\n",
    "    loss='categorical_crossentropy',\n",
    "    metrics=['accuracy']\n",
    ")"
   ]
  },
  {
   "cell_type": "code",
   "execution_count": 8,
   "id": "9f8368c3",
   "metadata": {
    "scrolled": false
   },
   "outputs": [
    {
     "name": "stdout",
     "output_type": "stream",
     "text": [
      "Epoch 1/10\n",
      "182/182 [==============================] - 143s 764ms/step - loss: 0.4941 - accuracy: 0.8534 - val_loss: 0.3413 - val_accuracy: 0.8983\n",
      "Epoch 2/10\n",
      "182/182 [==============================] - 139s 763ms/step - loss: 0.2570 - accuracy: 0.9168 - val_loss: 0.3620 - val_accuracy: 0.8879\n",
      "Epoch 3/10\n",
      "182/182 [==============================] - 138s 760ms/step - loss: 0.2236 - accuracy: 0.9276 - val_loss: 0.3050 - val_accuracy: 0.9121\n",
      "Epoch 4/10\n",
      "182/182 [==============================] - 138s 760ms/step - loss: 0.1954 - accuracy: 0.9376 - val_loss: 0.3192 - val_accuracy: 0.9017\n",
      "Epoch 5/10\n",
      "182/182 [==============================] - 138s 760ms/step - loss: 0.1724 - accuracy: 0.9438 - val_loss: 0.2772 - val_accuracy: 0.9211\n",
      "Epoch 6/10\n",
      "182/182 [==============================] - 147s 807ms/step - loss: 0.1335 - accuracy: 0.9579 - val_loss: 0.2715 - val_accuracy: 0.9211\n",
      "Epoch 7/10\n",
      "182/182 [==============================] - 214s 1s/step - loss: 0.1315 - accuracy: 0.9534 - val_loss: 0.3236 - val_accuracy: 0.9066\n",
      "Epoch 8/10\n",
      "182/182 [==============================] - 430s 2s/step - loss: 0.1333 - accuracy: 0.9546 - val_loss: 0.3105 - val_accuracy: 0.9170\n",
      "Epoch 9/10\n",
      "182/182 [==============================] - 268s 1s/step - loss: 0.1212 - accuracy: 0.9569 - val_loss: 0.2595 - val_accuracy: 0.9280\n",
      "Epoch 10/10\n",
      "182/182 [==============================] - 217s 1s/step - loss: 0.1178 - accuracy: 0.9611 - val_loss: 0.2843 - val_accuracy: 0.9163\n"
     ]
    },
    {
     "data": {
      "text/plain": [
       "<keras.callbacks.History at 0x2c8d8815510>"
      ]
     },
     "execution_count": 8,
     "metadata": {},
     "output_type": "execute_result"
    }
   ],
   "source": [
    "# Train the model\n",
    "model.fit(\n",
    "    train_generator,\n",
    "    epochs=num_epochs,\n",
    "    validation_data=validation_generator\n",
    ")"
   ]
  },
  {
   "cell_type": "code",
   "execution_count": 9,
   "id": "d5066a8f",
   "metadata": {},
   "outputs": [],
   "source": [
    "# Save the trained model\n",
    "model.save('animal_recognition_model.h5')"
   ]
  },
  {
   "cell_type": "code",
   "execution_count": null,
   "id": "9bd43ee9",
   "metadata": {},
   "outputs": [],
   "source": []
  }
 ],
 "metadata": {
  "kernelspec": {
   "display_name": "Python 3 (ipykernel)",
   "language": "python",
   "name": "python3"
  },
  "language_info": {
   "codemirror_mode": {
    "name": "ipython",
    "version": 3
   },
   "file_extension": ".py",
   "mimetype": "text/x-python",
   "name": "python",
   "nbconvert_exporter": "python",
   "pygments_lexer": "ipython3",
   "version": "3.10.9"
  }
 },
 "nbformat": 4,
 "nbformat_minor": 5
}
