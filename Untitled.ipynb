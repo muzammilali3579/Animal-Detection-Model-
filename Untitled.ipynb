{
 "cells": [
  {
   "cell_type": "code",
   "execution_count": 1,
   "id": "ee525ce4",
   "metadata": {},
   "outputs": [
    {
     "ename": "PermissionError",
     "evalue": "[Errno 13] Permission denied: 'Dataset/train/Armadilles'",
     "output_type": "error",
     "traceback": [
      "\u001b[1;31m---------------------------------------------------------------------------\u001b[0m",
      "\u001b[1;31mPermissionError\u001b[0m                           Traceback (most recent call last)",
      "Cell \u001b[1;32mIn[1], line 12\u001b[0m\n\u001b[0;32m      9\u001b[0m image_path \u001b[38;5;241m=\u001b[39m os\u001b[38;5;241m.\u001b[39mpath\u001b[38;5;241m.\u001b[39mjoin(dataset_dir, filename)\n\u001b[0;32m     11\u001b[0m \u001b[38;5;66;03m# Load the image\u001b[39;00m\n\u001b[1;32m---> 12\u001b[0m image \u001b[38;5;241m=\u001b[39m \u001b[43mImage\u001b[49m\u001b[38;5;241;43m.\u001b[39;49m\u001b[43mopen\u001b[49m\u001b[43m(\u001b[49m\u001b[43mimage_path\u001b[49m\u001b[43m)\u001b[49m\n\u001b[0;32m     14\u001b[0m \u001b[38;5;66;03m# Check if the image is a palette image with transparency\u001b[39;00m\n\u001b[0;32m     15\u001b[0m \u001b[38;5;28;01mif\u001b[39;00m image\u001b[38;5;241m.\u001b[39mmode \u001b[38;5;241m==\u001b[39m \u001b[38;5;124m\"\u001b[39m\u001b[38;5;124mP\u001b[39m\u001b[38;5;124m\"\u001b[39m \u001b[38;5;129;01mand\u001b[39;00m \u001b[38;5;124m\"\u001b[39m\u001b[38;5;124mtransparency\u001b[39m\u001b[38;5;124m\"\u001b[39m \u001b[38;5;129;01min\u001b[39;00m image\u001b[38;5;241m.\u001b[39minfo:\n\u001b[0;32m     16\u001b[0m     \u001b[38;5;66;03m# Convert the image to RGBA format\u001b[39;00m\n",
      "File \u001b[1;32m~\\anaconda3\\lib\\site-packages\\PIL\\Image.py:3227\u001b[0m, in \u001b[0;36mopen\u001b[1;34m(fp, mode, formats)\u001b[0m\n\u001b[0;32m   3224\u001b[0m     filename \u001b[38;5;241m=\u001b[39m fp\n\u001b[0;32m   3226\u001b[0m \u001b[38;5;28;01mif\u001b[39;00m filename:\n\u001b[1;32m-> 3227\u001b[0m     fp \u001b[38;5;241m=\u001b[39m \u001b[43mbuiltins\u001b[49m\u001b[38;5;241;43m.\u001b[39;49m\u001b[43mopen\u001b[49m\u001b[43m(\u001b[49m\u001b[43mfilename\u001b[49m\u001b[43m,\u001b[49m\u001b[43m \u001b[49m\u001b[38;5;124;43m\"\u001b[39;49m\u001b[38;5;124;43mrb\u001b[39;49m\u001b[38;5;124;43m\"\u001b[39;49m\u001b[43m)\u001b[49m\n\u001b[0;32m   3228\u001b[0m     exclusive_fp \u001b[38;5;241m=\u001b[39m \u001b[38;5;28;01mTrue\u001b[39;00m\n\u001b[0;32m   3230\u001b[0m \u001b[38;5;28;01mtry\u001b[39;00m:\n",
      "\u001b[1;31mPermissionError\u001b[0m: [Errno 13] Permission denied: 'Dataset/train/Armadilles'"
     ]
    }
   ],
   "source": [
    "from PIL import Image\n",
    "import os\n",
    "\n",
    "# Path to the directory containing your dataset\n",
    "dataset_dir = \"Dataset/train/\"\n",
    "\n",
    "# Iterate over the images in the dataset directory\n",
    "for filename in os.listdir(dataset_dir):\n",
    "    image_path = os.path.join(dataset_dir, filename)\n",
    "    \n",
    "    # Load the image\n",
    "    image = Image.open(image_path)\n",
    "    \n",
    "    # Check if the image is a palette image with transparency\n",
    "    if image.mode == \"P\" and \"transparency\" in image.info:\n",
    "        # Convert the image to RGBA format\n",
    "        image = image.convert(\"RGBA\")\n",
    "        \n",
    "        # Save the converted image, overwriting the original file\n",
    "        image.save(image_path)\n"
   ]
  },
  {
   "cell_type": "code",
   "execution_count": 2,
   "id": "c736c548",
   "metadata": {},
   "outputs": [
    {
     "ename": "PermissionError",
     "evalue": "[Errno 13] Permission denied: 'Dataset/train\\\\Armadilles'",
     "output_type": "error",
     "traceback": [
      "\u001b[1;31m---------------------------------------------------------------------------\u001b[0m",
      "\u001b[1;31mPermissionError\u001b[0m                           Traceback (most recent call last)",
      "Cell \u001b[1;32mIn[2], line 12\u001b[0m\n\u001b[0;32m      9\u001b[0m image_path \u001b[38;5;241m=\u001b[39m os\u001b[38;5;241m.\u001b[39mpath\u001b[38;5;241m.\u001b[39mjoin(dataset_dir, filename)\n\u001b[0;32m     11\u001b[0m \u001b[38;5;66;03m# Open the image\u001b[39;00m\n\u001b[1;32m---> 12\u001b[0m image \u001b[38;5;241m=\u001b[39m \u001b[43mImage\u001b[49m\u001b[38;5;241;43m.\u001b[39;49m\u001b[43mopen\u001b[49m\u001b[43m(\u001b[49m\u001b[43mimage_path\u001b[49m\u001b[43m)\u001b[49m\n\u001b[0;32m     14\u001b[0m \u001b[38;5;66;03m# Check if the image is a palette image with transparency\u001b[39;00m\n\u001b[0;32m     15\u001b[0m \u001b[38;5;28;01mif\u001b[39;00m image\u001b[38;5;241m.\u001b[39mmode \u001b[38;5;241m==\u001b[39m \u001b[38;5;124m\"\u001b[39m\u001b[38;5;124mP\u001b[39m\u001b[38;5;124m\"\u001b[39m \u001b[38;5;129;01mand\u001b[39;00m \u001b[38;5;124m\"\u001b[39m\u001b[38;5;124mtransparency\u001b[39m\u001b[38;5;124m\"\u001b[39m \u001b[38;5;129;01min\u001b[39;00m image\u001b[38;5;241m.\u001b[39minfo:\n\u001b[0;32m     16\u001b[0m     \u001b[38;5;66;03m# Convert the image to RGBA format\u001b[39;00m\n",
      "File \u001b[1;32m~\\anaconda3\\lib\\site-packages\\PIL\\Image.py:3227\u001b[0m, in \u001b[0;36mopen\u001b[1;34m(fp, mode, formats)\u001b[0m\n\u001b[0;32m   3224\u001b[0m     filename \u001b[38;5;241m=\u001b[39m fp\n\u001b[0;32m   3226\u001b[0m \u001b[38;5;28;01mif\u001b[39;00m filename:\n\u001b[1;32m-> 3227\u001b[0m     fp \u001b[38;5;241m=\u001b[39m \u001b[43mbuiltins\u001b[49m\u001b[38;5;241;43m.\u001b[39;49m\u001b[43mopen\u001b[49m\u001b[43m(\u001b[49m\u001b[43mfilename\u001b[49m\u001b[43m,\u001b[49m\u001b[43m \u001b[49m\u001b[38;5;124;43m\"\u001b[39;49m\u001b[38;5;124;43mrb\u001b[39;49m\u001b[38;5;124;43m\"\u001b[39;49m\u001b[43m)\u001b[49m\n\u001b[0;32m   3228\u001b[0m     exclusive_fp \u001b[38;5;241m=\u001b[39m \u001b[38;5;28;01mTrue\u001b[39;00m\n\u001b[0;32m   3230\u001b[0m \u001b[38;5;28;01mtry\u001b[39;00m:\n",
      "\u001b[1;31mPermissionError\u001b[0m: [Errno 13] Permission denied: 'Dataset/train\\\\Armadilles'"
     ]
    }
   ],
   "source": [
    "from PIL import Image\n",
    "import os\n",
    "\n",
    "# Path to the directory containing your dataset\n",
    "dataset_dir = \"Dataset/train\"\n",
    "\n",
    "# Iterate over the images in the dataset directory\n",
    "for filename in os.listdir(dataset_dir):\n",
    "    image_path = os.path.join(dataset_dir, filename)\n",
    "    \n",
    "    # Open the image\n",
    "    image = Image.open(image_path)\n",
    "    \n",
    "    # Check if the image is a palette image with transparency\n",
    "    if image.mode == \"P\" and \"transparency\" in image.info:\n",
    "        # Convert the image to RGBA format\n",
    "        image = image.convert(\"RGBA\")\n",
    "        \n",
    "        # Save the converted image, overwriting the original file\n",
    "        image.save(image_path)\n"
   ]
  },
  {
   "cell_type": "code",
   "execution_count": 3,
   "id": "4387b9a8",
   "metadata": {},
   "outputs": [
    {
     "ename": "AttributeError",
     "evalue": "'NoneType' object has no attribute 'shape'",
     "output_type": "error",
     "traceback": [
      "\u001b[1;31m---------------------------------------------------------------------------\u001b[0m",
      "\u001b[1;31mAttributeError\u001b[0m                            Traceback (most recent call last)",
      "Cell \u001b[1;32mIn[3], line 15\u001b[0m\n\u001b[0;32m     12\u001b[0m image \u001b[38;5;241m=\u001b[39m cv2\u001b[38;5;241m.\u001b[39mimread(image_path, cv2\u001b[38;5;241m.\u001b[39mIMREAD_UNCHANGED)\n\u001b[0;32m     14\u001b[0m \u001b[38;5;66;03m# Check if the image is a palette image with transparency\u001b[39;00m\n\u001b[1;32m---> 15\u001b[0m \u001b[38;5;28;01mif\u001b[39;00m \u001b[43mimage\u001b[49m\u001b[38;5;241;43m.\u001b[39;49m\u001b[43mshape\u001b[49m[\u001b[38;5;241m2\u001b[39m] \u001b[38;5;241m==\u001b[39m \u001b[38;5;241m4\u001b[39m \u001b[38;5;129;01mand\u001b[39;00m cv2\u001b[38;5;241m.\u001b[39mcvtColor(image, cv2\u001b[38;5;241m.\u001b[39mCOLOR_BGRA2BGR)\u001b[38;5;241m.\u001b[39mshape[\u001b[38;5;241m2\u001b[39m] \u001b[38;5;241m==\u001b[39m \u001b[38;5;241m3\u001b[39m:\n\u001b[0;32m     16\u001b[0m     \u001b[38;5;66;03m# Convert the image to RGBA format\u001b[39;00m\n\u001b[0;32m     17\u001b[0m     image \u001b[38;5;241m=\u001b[39m cv2\u001b[38;5;241m.\u001b[39mcvtColor(image, cv2\u001b[38;5;241m.\u001b[39mCOLOR_BGRA2RGBA)\n\u001b[0;32m     19\u001b[0m     \u001b[38;5;66;03m# Save the converted image, overwriting the original file\u001b[39;00m\n",
      "\u001b[1;31mAttributeError\u001b[0m: 'NoneType' object has no attribute 'shape'"
     ]
    }
   ],
   "source": [
    "import cv2\n",
    "import os\n",
    "\n",
    "# Path to the directory containing your dataset\n",
    "dataset_dir = \"Dataset/train\"\n",
    "\n",
    "# Iterate over the images in the dataset directory\n",
    "for filename in os.listdir(dataset_dir):\n",
    "    image_path = os.path.join(dataset_dir, filename)\n",
    "    \n",
    "    # Read the image using OpenCV\n",
    "    image = cv2.imread(image_path, cv2.IMREAD_UNCHANGED)\n",
    "    \n",
    "    # Check if the image is a palette image with transparency\n",
    "    if image.shape[2] == 4 and cv2.cvtColor(image, cv2.COLOR_BGRA2BGR).shape[2] == 3:\n",
    "        # Convert the image to RGBA format\n",
    "        image = cv2.cvtColor(image, cv2.COLOR_BGRA2RGBA)\n",
    "        \n",
    "        # Save the converted image, overwriting the original file\n",
    "        cv2.imwrite(image_path, image)\n"
   ]
  },
  {
   "cell_type": "code",
   "execution_count": 22,
   "id": "2eef06fe",
   "metadata": {},
   "outputs": [
    {
     "name": "stdout",
     "output_type": "stream",
     "text": [
      "Failed to load image: Dataset/validation/Armadilles\n",
      "Failed to load image: Dataset/validation/Bear\n",
      "Failed to load image: Dataset/validation/Birds\n",
      "Failed to load image: Dataset/validation/Cow\n",
      "Failed to load image: Dataset/validation/Crocodile\n",
      "Failed to load image: Dataset/validation/Deer\n",
      "Failed to load image: Dataset/validation/Elephant\n",
      "Failed to load image: Dataset/validation/Goat\n",
      "Failed to load image: Dataset/validation/Horse\n",
      "Failed to load image: Dataset/validation/Jaguar\n",
      "Failed to load image: Dataset/validation/Monkey\n",
      "Failed to load image: Dataset/validation/Rabbit\n",
      "Failed to load image: Dataset/validation/Skunk\n",
      "Failed to load image: Dataset/validation/Tiger\n",
      "Failed to load image: Dataset/validation/Wild Boar\n"
     ]
    }
   ],
   "source": [
    "import cv2\n",
    "import os\n",
    "\n",
    "# Path to the directory containing your dataset\n",
    "dataset_dir = \"Dataset/validation/\"\n",
    "\n",
    "# Iterate over the images in the dataset directory\n",
    "for filename in os.listdir(dataset_dir):\n",
    "    image_path = os.path.join(dataset_dir, filename)\n",
    "    \n",
    "    # Read the image using OpenCV\n",
    "    image = cv2.imread(image_path, cv2.IMREAD_UNCHANGED)\n",
    "    \n",
    "    # Check if the image was successfully loaded\n",
    "    if image is not None:\n",
    "        # Check if the image is a palette image with transparency\n",
    "        if image.shape[2] == 4 and cv2.cvtColor(image, cv2.COLOR_BGRA2BGR).shape[2] == 3:\n",
    "            # Convert the image to RGBA format\n",
    "            image = cv2.cvtColor(image, cv2.COLOR_BGRA2RGBA)\n",
    "            \n",
    "            # Save the converted image, overwriting the original file\n",
    "            cv2.imwrite(image_path, image)\n",
    "    else:\n",
    "        print(f\"Failed to load image: {image_path}\")\n"
   ]
  },
  {
   "cell_type": "code",
   "execution_count": 37,
   "id": "5e7c2fb3",
   "metadata": {},
   "outputs": [
    {
     "name": "stdout",
     "output_type": "stream",
     "text": [
      "Failed to load image: Dataset/validation/Armadilles\\Label\n"
     ]
    }
   ],
   "source": [
    "import cv2\n",
    "import os\n",
    "\n",
    "# Path to the directory containing your dataset\n",
    "dataset_dir = \"Dataset/validation/Armadilles\"\n",
    "\n",
    "# Iterate over the images in the dataset directory\n",
    "for filename in os.listdir(dataset_dir):\n",
    "    image_path = os.path.join(dataset_dir, filename)\n",
    "    \n",
    "    # Read the image using OpenCV\n",
    "    image = cv2.imread(image_path, cv2.IMREAD_UNCHANGED)\n",
    "    \n",
    "    # Check if the image was successfully loaded\n",
    "    if image is not None:\n",
    "        # Check if the image has at least three dimensions\n",
    "        if len(image.shape) >= 3:\n",
    "            # Check if the image is a palette image with transparency\n",
    "            if image.shape[2] == 4 and cv2.cvtColor(image, cv2.COLOR_BGRA2BGR).shape[2] == 3:\n",
    "                # Convert the image to RGBA format\n",
    "                image = cv2.cvtColor(image, cv2.COLOR_BGRA2RGBA)\n",
    "                \n",
    "                # Save the converted image, overwriting the original file\n",
    "                cv2.imwrite(image_path, image)\n",
    "        else:\n",
    "            print(f\"Invalid image dimensions: {image_path}\")\n",
    "    else:\n",
    "        print(f\"Failed to load image: {image_path}\")\n"
   ]
  },
  {
   "cell_type": "code",
   "execution_count": null,
   "id": "34ef4fa1",
   "metadata": {},
   "outputs": [],
   "source": []
  }
 ],
 "metadata": {
  "kernelspec": {
   "display_name": "Python 3 (ipykernel)",
   "language": "python",
   "name": "python3"
  },
  "language_info": {
   "codemirror_mode": {
    "name": "ipython",
    "version": 3
   },
   "file_extension": ".py",
   "mimetype": "text/x-python",
   "name": "python",
   "nbconvert_exporter": "python",
   "pygments_lexer": "ipython3",
   "version": "3.10.9"
  }
 },
 "nbformat": 4,
 "nbformat_minor": 5
}
